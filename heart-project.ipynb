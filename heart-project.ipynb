{
 "cells": [
  {
   "cell_type": "code",
   "execution_count": 556,
   "metadata": {},
   "outputs": [],
   "source": [
    "import pandas as pd\n",
    "import numpy as np\n",
    "from sklearn.model_selection import train_test_split, cross_val_score\n",
    "from sklearn.preprocessing import OneHotEncoder\n",
    "from sklearn.compose import make_column_transformer\n",
    "from sklearn.linear_model import LogisticRegression\n",
    "from sklearn import metrics\n",
    "import matplotlib.pyplot as plt\n",
    "from sklearn.metrics import accuracy_score\n",
    "from sklearn.preprocessing import scale\n"
   ]
  },
  {
   "cell_type": "code",
   "execution_count": 557,
   "metadata": {},
   "outputs": [
    {
     "data": {
      "text/html": [
       "<div>\n",
       "<style scoped>\n",
       "    .dataframe tbody tr th:only-of-type {\n",
       "        vertical-align: middle;\n",
       "    }\n",
       "\n",
       "    .dataframe tbody tr th {\n",
       "        vertical-align: top;\n",
       "    }\n",
       "\n",
       "    .dataframe thead th {\n",
       "        text-align: right;\n",
       "    }\n",
       "</style>\n",
       "<table border=\"1\" class=\"dataframe\">\n",
       "  <thead>\n",
       "    <tr style=\"text-align: right;\">\n",
       "      <th></th>\n",
       "      <th>Age</th>\n",
       "      <th>Sex</th>\n",
       "      <th>ChestPainType</th>\n",
       "      <th>RestingBP</th>\n",
       "      <th>Cholesterol</th>\n",
       "      <th>FastingBS</th>\n",
       "      <th>RestingECG</th>\n",
       "      <th>MaxHR</th>\n",
       "      <th>ExerciseAngina</th>\n",
       "      <th>Oldpeak</th>\n",
       "      <th>ST_Slope</th>\n",
       "      <th>HeartDisease</th>\n",
       "    </tr>\n",
       "  </thead>\n",
       "  <tbody>\n",
       "    <tr>\n",
       "      <th>0</th>\n",
       "      <td>40</td>\n",
       "      <td>M</td>\n",
       "      <td>ATA</td>\n",
       "      <td>140</td>\n",
       "      <td>289</td>\n",
       "      <td>0</td>\n",
       "      <td>Normal</td>\n",
       "      <td>172</td>\n",
       "      <td>N</td>\n",
       "      <td>0.0</td>\n",
       "      <td>Up</td>\n",
       "      <td>0</td>\n",
       "    </tr>\n",
       "    <tr>\n",
       "      <th>1</th>\n",
       "      <td>49</td>\n",
       "      <td>F</td>\n",
       "      <td>NAP</td>\n",
       "      <td>160</td>\n",
       "      <td>180</td>\n",
       "      <td>0</td>\n",
       "      <td>Normal</td>\n",
       "      <td>156</td>\n",
       "      <td>N</td>\n",
       "      <td>1.0</td>\n",
       "      <td>Flat</td>\n",
       "      <td>1</td>\n",
       "    </tr>\n",
       "    <tr>\n",
       "      <th>2</th>\n",
       "      <td>37</td>\n",
       "      <td>M</td>\n",
       "      <td>ATA</td>\n",
       "      <td>130</td>\n",
       "      <td>283</td>\n",
       "      <td>0</td>\n",
       "      <td>ST</td>\n",
       "      <td>98</td>\n",
       "      <td>N</td>\n",
       "      <td>0.0</td>\n",
       "      <td>Up</td>\n",
       "      <td>0</td>\n",
       "    </tr>\n",
       "    <tr>\n",
       "      <th>3</th>\n",
       "      <td>48</td>\n",
       "      <td>F</td>\n",
       "      <td>ASY</td>\n",
       "      <td>138</td>\n",
       "      <td>214</td>\n",
       "      <td>0</td>\n",
       "      <td>Normal</td>\n",
       "      <td>108</td>\n",
       "      <td>Y</td>\n",
       "      <td>1.5</td>\n",
       "      <td>Flat</td>\n",
       "      <td>1</td>\n",
       "    </tr>\n",
       "    <tr>\n",
       "      <th>4</th>\n",
       "      <td>54</td>\n",
       "      <td>M</td>\n",
       "      <td>NAP</td>\n",
       "      <td>150</td>\n",
       "      <td>195</td>\n",
       "      <td>0</td>\n",
       "      <td>Normal</td>\n",
       "      <td>122</td>\n",
       "      <td>N</td>\n",
       "      <td>0.0</td>\n",
       "      <td>Up</td>\n",
       "      <td>0</td>\n",
       "    </tr>\n",
       "    <tr>\n",
       "      <th>...</th>\n",
       "      <td>...</td>\n",
       "      <td>...</td>\n",
       "      <td>...</td>\n",
       "      <td>...</td>\n",
       "      <td>...</td>\n",
       "      <td>...</td>\n",
       "      <td>...</td>\n",
       "      <td>...</td>\n",
       "      <td>...</td>\n",
       "      <td>...</td>\n",
       "      <td>...</td>\n",
       "      <td>...</td>\n",
       "    </tr>\n",
       "    <tr>\n",
       "      <th>913</th>\n",
       "      <td>45</td>\n",
       "      <td>M</td>\n",
       "      <td>TA</td>\n",
       "      <td>110</td>\n",
       "      <td>264</td>\n",
       "      <td>0</td>\n",
       "      <td>Normal</td>\n",
       "      <td>132</td>\n",
       "      <td>N</td>\n",
       "      <td>1.2</td>\n",
       "      <td>Flat</td>\n",
       "      <td>1</td>\n",
       "    </tr>\n",
       "    <tr>\n",
       "      <th>914</th>\n",
       "      <td>68</td>\n",
       "      <td>M</td>\n",
       "      <td>ASY</td>\n",
       "      <td>144</td>\n",
       "      <td>193</td>\n",
       "      <td>1</td>\n",
       "      <td>Normal</td>\n",
       "      <td>141</td>\n",
       "      <td>N</td>\n",
       "      <td>3.4</td>\n",
       "      <td>Flat</td>\n",
       "      <td>1</td>\n",
       "    </tr>\n",
       "    <tr>\n",
       "      <th>915</th>\n",
       "      <td>57</td>\n",
       "      <td>M</td>\n",
       "      <td>ASY</td>\n",
       "      <td>130</td>\n",
       "      <td>131</td>\n",
       "      <td>0</td>\n",
       "      <td>Normal</td>\n",
       "      <td>115</td>\n",
       "      <td>Y</td>\n",
       "      <td>1.2</td>\n",
       "      <td>Flat</td>\n",
       "      <td>1</td>\n",
       "    </tr>\n",
       "    <tr>\n",
       "      <th>916</th>\n",
       "      <td>57</td>\n",
       "      <td>F</td>\n",
       "      <td>ATA</td>\n",
       "      <td>130</td>\n",
       "      <td>236</td>\n",
       "      <td>0</td>\n",
       "      <td>LVH</td>\n",
       "      <td>174</td>\n",
       "      <td>N</td>\n",
       "      <td>0.0</td>\n",
       "      <td>Flat</td>\n",
       "      <td>1</td>\n",
       "    </tr>\n",
       "    <tr>\n",
       "      <th>917</th>\n",
       "      <td>38</td>\n",
       "      <td>M</td>\n",
       "      <td>NAP</td>\n",
       "      <td>138</td>\n",
       "      <td>175</td>\n",
       "      <td>0</td>\n",
       "      <td>Normal</td>\n",
       "      <td>173</td>\n",
       "      <td>N</td>\n",
       "      <td>0.0</td>\n",
       "      <td>Up</td>\n",
       "      <td>0</td>\n",
       "    </tr>\n",
       "  </tbody>\n",
       "</table>\n",
       "<p>918 rows × 12 columns</p>\n",
       "</div>"
      ],
      "text/plain": [
       "     Age Sex ChestPainType  RestingBP  Cholesterol  FastingBS RestingECG  \\\n",
       "0     40   M           ATA        140          289          0     Normal   \n",
       "1     49   F           NAP        160          180          0     Normal   \n",
       "2     37   M           ATA        130          283          0         ST   \n",
       "3     48   F           ASY        138          214          0     Normal   \n",
       "4     54   M           NAP        150          195          0     Normal   \n",
       "..   ...  ..           ...        ...          ...        ...        ...   \n",
       "913   45   M            TA        110          264          0     Normal   \n",
       "914   68   M           ASY        144          193          1     Normal   \n",
       "915   57   M           ASY        130          131          0     Normal   \n",
       "916   57   F           ATA        130          236          0        LVH   \n",
       "917   38   M           NAP        138          175          0     Normal   \n",
       "\n",
       "     MaxHR ExerciseAngina  Oldpeak ST_Slope  HeartDisease  \n",
       "0      172              N      0.0       Up             0  \n",
       "1      156              N      1.0     Flat             1  \n",
       "2       98              N      0.0       Up             0  \n",
       "3      108              Y      1.5     Flat             1  \n",
       "4      122              N      0.0       Up             0  \n",
       "..     ...            ...      ...      ...           ...  \n",
       "913    132              N      1.2     Flat             1  \n",
       "914    141              N      3.4     Flat             1  \n",
       "915    115              Y      1.2     Flat             1  \n",
       "916    174              N      0.0     Flat             1  \n",
       "917    173              N      0.0       Up             0  \n",
       "\n",
       "[918 rows x 12 columns]"
      ]
     },
     "execution_count": 557,
     "metadata": {},
     "output_type": "execute_result"
    }
   ],
   "source": [
    "df = pd.read_csv('./heart.csv')\n",
    "df"
   ]
  },
  {
   "cell_type": "code",
   "execution_count": 558,
   "metadata": {},
   "outputs": [],
   "source": [
    "all_feature_cols  = ['Age', 'Sex', 'ChestPainType', 'RestingBP', 'Cholesterol', 'FastingBS', 'RestingECG', 'MaxHR', 'ExerciseAngina', 'Oldpeak', 'ST_Slope']\n",
    "\n",
    "X = df[all_feature_cols]\n",
    "y = df['HeartDisease']\n",
    "\n"
   ]
  },
  {
   "cell_type": "code",
   "execution_count": null,
   "metadata": {},
   "outputs": [],
   "source": []
  },
  {
   "cell_type": "code",
   "execution_count": 559,
   "metadata": {},
   "outputs": [
    {
     "name": "stdout",
     "output_type": "stream",
     "text": [
      "[[  0.    1.    0.  ...   0.  172.    0. ]\n",
      " [  1.    0.    0.  ...   0.  156.    1. ]\n",
      " [  0.    1.    0.  ...   0.   98.    0. ]\n",
      " ...\n",
      " [  0.    1.    1.  ...   0.  115.    1.2]\n",
      " [  1.    0.    0.  ...   0.  174.    0. ]\n",
      " [  0.    1.    0.  ...   0.  173.    0. ]]\n"
     ]
    }
   ],
   "source": [
    "ohe = OneHotEncoder()\n",
    "column_trans = make_column_transformer((OneHotEncoder(), ['Sex', 'ChestPainType', 'RestingECG', 'ExerciseAngina', 'ST_Slope']), remainder='passthrough')\n",
    "X = column_trans.fit_transform(X)\n",
    "print(X)\n",
    "X = scale(X)"
   ]
  },
  {
   "cell_type": "code",
   "execution_count": 560,
   "metadata": {},
   "outputs": [
    {
     "data": {
      "text/plain": [
       "array([[-0.51595242,  0.51595242, -1.08413811, ..., -0.55134134,\n",
       "         1.38292822, -0.83243239],\n",
       "       [ 1.93816322, -1.93816322, -1.08413811, ..., -0.55134134,\n",
       "         0.75415714,  0.10566353],\n",
       "       [-0.51595242,  0.51595242, -1.08413811, ..., -0.55134134,\n",
       "        -1.52513802, -0.83243239],\n",
       "       ...,\n",
       "       [-0.51595242,  0.51595242,  0.9223917 , ..., -0.55134134,\n",
       "        -0.85706875,  0.29328271],\n",
       "       [ 1.93816322, -1.93816322, -1.08413811, ..., -0.55134134,\n",
       "         1.4615246 , -0.83243239],\n",
       "       [-0.51595242,  0.51595242, -1.08413811, ..., -0.55134134,\n",
       "         1.42222641, -0.83243239]])"
      ]
     },
     "execution_count": 560,
     "metadata": {},
     "output_type": "execute_result"
    }
   ],
   "source": [
    "X"
   ]
  },
  {
   "cell_type": "markdown",
   "metadata": {},
   "source": []
  },
  {
   "cell_type": "code",
   "execution_count": 561,
   "metadata": {},
   "outputs": [
    {
     "data": {
      "text/plain": [
       "LogisticRegression(max_iter=2000)"
      ]
     },
     "execution_count": 561,
     "metadata": {},
     "output_type": "execute_result"
    }
   ],
   "source": [
    "X_train, X_test, y_train, y_test = train_test_split(X, y, test_size=0.25, random_state=4)\n",
    "\n",
    "my_logreg = LogisticRegression(max_iter=2000)\n",
    "my_logreg.fit(X_train, y_train)"
   ]
  },
  {
   "cell_type": "markdown",
   "metadata": {},
   "source": []
  },
  {
   "cell_type": "code",
   "execution_count": 562,
   "metadata": {},
   "outputs": [],
   "source": [
    "y_predict_lr = my_logreg.predict(X_test)\n",
    "y_predict_prob_log_r = my_logreg.predict_proba(X_test)\n",
    "score_logreg = accuracy_score(y_test, y_predict_lr)"
   ]
  },
  {
   "cell_type": "code",
   "execution_count": 563,
   "metadata": {},
   "outputs": [
    {
     "name": "stdout",
     "output_type": "stream",
     "text": [
      "0.8869565217391304\n"
     ]
    }
   ],
   "source": [
    "print(score_logreg)"
   ]
  },
  {
   "cell_type": "code",
   "execution_count": 564,
   "metadata": {},
   "outputs": [
    {
     "name": "stdout",
     "output_type": "stream",
     "text": [
      "[[0.42973851 0.57026149]\n",
      " [0.06095133 0.93904867]\n",
      " [0.80747084 0.19252916]\n",
      " [0.76425668 0.23574332]\n",
      " [0.90554189 0.09445811]\n",
      " [0.0472208  0.9527792 ]\n",
      " [0.02474503 0.97525497]\n",
      " [0.14266031 0.85733969]\n",
      " [0.90420833 0.09579167]\n",
      " [0.91956413 0.08043587]\n",
      " [0.97768645 0.02231355]\n",
      " [0.39165988 0.60834012]\n",
      " [0.96143405 0.03856595]\n",
      " [0.93944681 0.06055319]\n",
      " [0.77719346 0.22280654]\n",
      " [0.04741034 0.95258966]\n",
      " [0.9813811  0.0186189 ]\n",
      " [0.90268277 0.09731723]\n",
      " [0.96665012 0.03334988]\n",
      " [0.16287706 0.83712294]\n",
      " [0.09349436 0.90650564]\n",
      " [0.36899063 0.63100937]\n",
      " [0.94223835 0.05776165]\n",
      " [0.8653794  0.1346206 ]\n",
      " [0.0083404  0.9916596 ]\n",
      " [0.08573248 0.91426752]\n",
      " [0.98955061 0.01044939]\n",
      " [0.33050717 0.66949283]\n",
      " [0.06694571 0.93305429]\n",
      " [0.47246048 0.52753952]\n",
      " [0.01789778 0.98210222]\n",
      " [0.48263463 0.51736537]\n",
      " [0.07124763 0.92875237]\n",
      " [0.05956127 0.94043873]\n",
      " [0.14382952 0.85617048]\n",
      " [0.9587881  0.0412119 ]\n",
      " [0.02230183 0.97769817]\n",
      " [0.04746383 0.95253617]\n",
      " [0.00997646 0.99002354]\n",
      " [0.19894363 0.80105637]\n",
      " [0.02173847 0.97826153]\n",
      " [0.98192566 0.01807434]\n",
      " [0.34548622 0.65451378]\n",
      " [0.14020564 0.85979436]\n",
      " [0.23045601 0.76954399]\n",
      " [0.05036025 0.94963975]\n",
      " [0.09882103 0.90117897]\n",
      " [0.06856801 0.93143199]\n",
      " [0.701671   0.298329  ]\n",
      " [0.49331729 0.50668271]\n",
      " [0.06024097 0.93975903]\n",
      " [0.72459474 0.27540526]\n",
      " [0.96681602 0.03318398]\n",
      " [0.98259302 0.01740698]\n",
      " [0.97547482 0.02452518]\n",
      " [0.85725739 0.14274261]\n",
      " [0.07302672 0.92697328]\n",
      " [0.22626391 0.77373609]\n",
      " [0.9788929  0.0211071 ]\n",
      " [0.01654492 0.98345508]\n",
      " [0.21200275 0.78799725]\n",
      " [0.99065454 0.00934546]\n",
      " [0.96469289 0.03530711]\n",
      " [0.13722221 0.86277779]\n",
      " [0.08045523 0.91954477]\n",
      " [0.01821745 0.98178255]\n",
      " [0.50095026 0.49904974]\n",
      " [0.0199409  0.9800591 ]\n",
      " [0.96695731 0.03304269]\n",
      " [0.99073435 0.00926565]\n",
      " [0.0493687  0.9506313 ]\n",
      " [0.42072312 0.57927688]\n",
      " [0.92289354 0.07710646]\n",
      " [0.86234333 0.13765667]\n",
      " [0.73720564 0.26279436]\n",
      " [0.53011299 0.46988701]\n",
      " [0.70846722 0.29153278]\n",
      " [0.75171904 0.24828096]\n",
      " [0.91964206 0.08035794]\n",
      " [0.0435104  0.9564896 ]\n",
      " [0.56957896 0.43042104]\n",
      " [0.05869099 0.94130901]\n",
      " [0.89689572 0.10310428]\n",
      " [0.12096052 0.87903948]\n",
      " [0.02910739 0.97089261]\n",
      " [0.40552497 0.59447503]\n",
      " [0.93520079 0.06479921]\n",
      " [0.98855612 0.01144388]\n",
      " [0.89949709 0.10050291]\n",
      " [0.01924967 0.98075033]\n",
      " [0.07668011 0.92331989]\n",
      " [0.17100372 0.82899628]\n",
      " [0.78349511 0.21650489]\n",
      " [0.60013463 0.39986537]\n",
      " [0.14125282 0.85874718]\n",
      " [0.18944966 0.81055034]\n",
      " [0.62831663 0.37168337]\n",
      " [0.07435679 0.92564321]\n",
      " [0.01732569 0.98267431]\n",
      " [0.20962188 0.79037812]\n",
      " [0.98065706 0.01934294]\n",
      " [0.91554406 0.08445594]\n",
      " [0.09884736 0.90115264]\n",
      " [0.08553606 0.91446394]\n",
      " [0.0341711  0.9658289 ]\n",
      " [0.22947588 0.77052412]\n",
      " [0.97833584 0.02166416]\n",
      " [0.91818619 0.08181381]\n",
      " [0.29240918 0.70759082]\n",
      " [0.06248205 0.93751795]\n",
      " [0.54749244 0.45250756]\n",
      " [0.7146705  0.2853295 ]\n",
      " [0.74748445 0.25251555]\n",
      " [0.89493232 0.10506768]\n",
      " [0.96007561 0.03992439]\n",
      " [0.0849258  0.9150742 ]\n",
      " [0.01518076 0.98481924]\n",
      " [0.02623037 0.97376963]\n",
      " [0.91400741 0.08599259]\n",
      " [0.32188022 0.67811978]\n",
      " [0.95155782 0.04844218]\n",
      " [0.0573861  0.9426139 ]\n",
      " [0.13392263 0.86607737]\n",
      " [0.95993377 0.04006623]\n",
      " [0.07575095 0.92424905]\n",
      " [0.98654244 0.01345756]\n",
      " [0.71522898 0.28477102]\n",
      " [0.79895807 0.20104193]\n",
      " [0.9128663  0.0871337 ]\n",
      " [0.181644   0.818356  ]\n",
      " [0.85524811 0.14475189]\n",
      " [0.84020877 0.15979123]\n",
      " [0.0696162  0.9303838 ]\n",
      " [0.1879258  0.8120742 ]\n",
      " [0.2439826  0.7560174 ]\n",
      " [0.23659784 0.76340216]\n",
      " [0.31379492 0.68620508]\n",
      " [0.05164545 0.94835455]\n",
      " [0.15635739 0.84364261]\n",
      " [0.25588073 0.74411927]\n",
      " [0.57524256 0.42475744]\n",
      " [0.02499061 0.97500939]\n",
      " [0.94368201 0.05631799]\n",
      " [0.94551281 0.05448719]\n",
      " [0.01807604 0.98192396]\n",
      " [0.18111112 0.81888888]\n",
      " [0.58081304 0.41918696]\n",
      " [0.93067418 0.06932582]\n",
      " [0.04196371 0.95803629]\n",
      " [0.1786389  0.8213611 ]\n",
      " [0.08667786 0.91332214]\n",
      " [0.13983327 0.86016673]\n",
      " [0.96762869 0.03237131]\n",
      " [0.20939029 0.79060971]\n",
      " [0.15289659 0.84710341]\n",
      " [0.69629916 0.30370084]\n",
      " [0.05087478 0.94912522]\n",
      " [0.63718969 0.36281031]\n",
      " [0.88203247 0.11796753]\n",
      " [0.00778217 0.99221783]\n",
      " [0.98373409 0.01626591]\n",
      " [0.00830619 0.99169381]\n",
      " [0.06585422 0.93414578]\n",
      " [0.93787063 0.06212937]\n",
      " [0.12933569 0.87066431]\n",
      " [0.32125729 0.67874271]\n",
      " [0.07016026 0.92983974]\n",
      " [0.02096682 0.97903318]\n",
      " [0.32889802 0.67110198]\n",
      " [0.93398097 0.06601903]\n",
      " [0.11014757 0.88985243]\n",
      " [0.98137665 0.01862335]\n",
      " [0.51729031 0.48270969]\n",
      " [0.48711093 0.51288907]\n",
      " [0.07553494 0.92446506]\n",
      " [0.47382096 0.52617904]\n",
      " [0.98552121 0.01447879]\n",
      " [0.00969254 0.99030746]\n",
      " [0.72379102 0.27620898]\n",
      " [0.10676534 0.89323466]\n",
      " [0.19210058 0.80789942]\n",
      " [0.94694007 0.05305993]\n",
      " [0.12827108 0.87172892]\n",
      " [0.40847777 0.59152223]\n",
      " [0.29360808 0.70639192]\n",
      " [0.05670123 0.94329877]\n",
      " [0.94350256 0.05649744]\n",
      " [0.02952462 0.97047538]\n",
      " [0.8345301  0.1654699 ]\n",
      " [0.29826569 0.70173431]\n",
      " [0.03157932 0.96842068]\n",
      " [0.3248641  0.6751359 ]\n",
      " [0.85747413 0.14252587]\n",
      " [0.26824794 0.73175206]\n",
      " [0.96121964 0.03878036]\n",
      " [0.25925329 0.74074671]\n",
      " [0.04133834 0.95866166]\n",
      " [0.02086974 0.97913026]\n",
      " [0.98561896 0.01438104]\n",
      " [0.83073236 0.16926764]\n",
      " [0.30369649 0.69630351]\n",
      " [0.47423003 0.52576997]\n",
      " [0.04609243 0.95390757]\n",
      " [0.92828141 0.07171859]\n",
      " [0.01294314 0.98705686]\n",
      " [0.65573722 0.34426278]\n",
      " [0.03071226 0.96928774]\n",
      " [0.90471445 0.09528555]\n",
      " [0.32757033 0.67242967]\n",
      " [0.96308326 0.03691674]\n",
      " [0.05428057 0.94571943]\n",
      " [0.98793301 0.01206699]\n",
      " [0.91033059 0.08966941]\n",
      " [0.07929655 0.92070345]\n",
      " [0.01243622 0.98756378]\n",
      " [0.07717679 0.92282321]\n",
      " [0.02122635 0.97877365]\n",
      " [0.1445326  0.8554674 ]\n",
      " [0.59898196 0.40101804]\n",
      " [0.02531562 0.97468438]\n",
      " [0.86792046 0.13207954]\n",
      " [0.00806899 0.99193101]\n",
      " [0.21712777 0.78287223]\n",
      " [0.00889755 0.99110245]\n",
      " [0.15281108 0.84718892]\n",
      " [0.98447029 0.01552971]\n",
      " [0.071214   0.928786  ]\n",
      " [0.04889168 0.95110832]\n",
      " [0.01429555 0.98570445]\n",
      " [0.52892613 0.47107387]]\n"
     ]
    }
   ],
   "source": [
    "print(y_predict_prob_log_r)"
   ]
  },
  {
   "cell_type": "code",
   "execution_count": 565,
   "metadata": {},
   "outputs": [
    {
     "name": "stdout",
     "output_type": "stream",
     "text": [
      "[0.57026149 0.93904867 0.19252916 0.23574332 0.09445811 0.9527792\n",
      " 0.97525497 0.85733969 0.09579167 0.08043587 0.02231355 0.60834012\n",
      " 0.03856595 0.06055319 0.22280654 0.95258966 0.0186189  0.09731723\n",
      " 0.03334988 0.83712294 0.90650564 0.63100937 0.05776165 0.1346206\n",
      " 0.9916596  0.91426752 0.01044939 0.66949283 0.93305429 0.52753952\n",
      " 0.98210222 0.51736537 0.92875237 0.94043873 0.85617048 0.0412119\n",
      " 0.97769817 0.95253617 0.99002354 0.80105637 0.97826153 0.01807434\n",
      " 0.65451378 0.85979436 0.76954399 0.94963975 0.90117897 0.93143199\n",
      " 0.298329   0.50668271 0.93975903 0.27540526 0.03318398 0.01740698\n",
      " 0.02452518 0.14274261 0.92697328 0.77373609 0.0211071  0.98345508\n",
      " 0.78799725 0.00934546 0.03530711 0.86277779 0.91954477 0.98178255\n",
      " 0.49904974 0.9800591  0.03304269 0.00926565 0.9506313  0.57927688\n",
      " 0.07710646 0.13765667 0.26279436 0.46988701 0.29153278 0.24828096\n",
      " 0.08035794 0.9564896  0.43042104 0.94130901 0.10310428 0.87903948\n",
      " 0.97089261 0.59447503 0.06479921 0.01144388 0.10050291 0.98075033\n",
      " 0.92331989 0.82899628 0.21650489 0.39986537 0.85874718 0.81055034\n",
      " 0.37168337 0.92564321 0.98267431 0.79037812 0.01934294 0.08445594\n",
      " 0.90115264 0.91446394 0.9658289  0.77052412 0.02166416 0.08181381\n",
      " 0.70759082 0.93751795 0.45250756 0.2853295  0.25251555 0.10506768\n",
      " 0.03992439 0.9150742  0.98481924 0.97376963 0.08599259 0.67811978\n",
      " 0.04844218 0.9426139  0.86607737 0.04006623 0.92424905 0.01345756\n",
      " 0.28477102 0.20104193 0.0871337  0.818356   0.14475189 0.15979123\n",
      " 0.9303838  0.8120742  0.7560174  0.76340216 0.68620508 0.94835455\n",
      " 0.84364261 0.74411927 0.42475744 0.97500939 0.05631799 0.05448719\n",
      " 0.98192396 0.81888888 0.41918696 0.06932582 0.95803629 0.8213611\n",
      " 0.91332214 0.86016673 0.03237131 0.79060971 0.84710341 0.30370084\n",
      " 0.94912522 0.36281031 0.11796753 0.99221783 0.01626591 0.99169381\n",
      " 0.93414578 0.06212937 0.87066431 0.67874271 0.92983974 0.97903318\n",
      " 0.67110198 0.06601903 0.88985243 0.01862335 0.48270969 0.51288907\n",
      " 0.92446506 0.52617904 0.01447879 0.99030746 0.27620898 0.89323466\n",
      " 0.80789942 0.05305993 0.87172892 0.59152223 0.70639192 0.94329877\n",
      " 0.05649744 0.97047538 0.1654699  0.70173431 0.96842068 0.6751359\n",
      " 0.14252587 0.73175206 0.03878036 0.74074671 0.95866166 0.97913026\n",
      " 0.01438104 0.16926764 0.69630351 0.52576997 0.95390757 0.07171859\n",
      " 0.98705686 0.34426278 0.96928774 0.09528555 0.67242967 0.03691674\n",
      " 0.94571943 0.01206699 0.08966941 0.92070345 0.98756378 0.92282321\n",
      " 0.97877365 0.8554674  0.40101804 0.97468438 0.13207954 0.99193101\n",
      " 0.78287223 0.99110245 0.84718892 0.01552971 0.928786   0.95110832\n",
      " 0.98570445 0.47107387]\n"
     ]
    }
   ],
   "source": [
    "print(y_predict_prob_log_r[:,1])"
   ]
  },
  {
   "cell_type": "code",
   "execution_count": 566,
   "metadata": {},
   "outputs": [],
   "source": [
    "fpr, tpr, thresholds = metrics.roc_curve(y_test, y_predict_prob_log_r[:,1], pos_label=1)"
   ]
  },
  {
   "cell_type": "code",
   "execution_count": 567,
   "metadata": {},
   "outputs": [
    {
     "name": "stdout",
     "output_type": "stream",
     "text": [
      "[0.         0.         0.         0.00952381 0.00952381 0.01904762\n",
      " 0.01904762 0.02857143 0.02857143 0.03809524 0.03809524 0.04761905\n",
      " 0.04761905 0.05714286 0.05714286 0.06666667 0.06666667 0.08571429\n",
      " 0.08571429 0.0952381  0.0952381  0.1047619  0.1047619  0.11428571\n",
      " 0.11428571 0.12380952 0.12380952 0.16190476 0.16190476 0.17142857\n",
      " 0.17142857 0.18095238 0.18095238 0.2        0.2        0.26666667\n",
      " 0.26666667 0.27619048 0.27619048 0.40952381 0.40952381 0.41904762\n",
      " 0.41904762 0.67619048 0.67619048 0.68571429 0.68571429 1.        ]\n"
     ]
    }
   ],
   "source": [
    "print(fpr)"
   ]
  },
  {
   "cell_type": "code",
   "execution_count": 568,
   "metadata": {},
   "outputs": [
    {
     "name": "stdout",
     "output_type": "stream",
     "text": [
      "[0.    0.008 0.36  0.36  0.376 0.376 0.584 0.584 0.592 0.592 0.624 0.624\n",
      " 0.704 0.704 0.736 0.736 0.792 0.792 0.808 0.808 0.824 0.824 0.832 0.832\n",
      " 0.904 0.904 0.912 0.912 0.92  0.92  0.936 0.936 0.944 0.944 0.952 0.952\n",
      " 0.96  0.96  0.968 0.968 0.976 0.976 0.984 0.984 0.992 0.992 1.    1.   ]\n"
     ]
    }
   ],
   "source": [
    "print(tpr)"
   ]
  },
  {
   "cell_type": "code",
   "execution_count": 569,
   "metadata": {},
   "outputs": [],
   "source": [
    "AUC = metrics.auc(fpr, tpr)"
   ]
  },
  {
   "cell_type": "code",
   "execution_count": 570,
   "metadata": {},
   "outputs": [
    {
     "data": {
      "image/png": "[encoded data removed]",
      "text/plain": [
       "<Figure size 432x288 with 1 Axes>"
      ]
     },
     "metadata": {
      "needs_background": "light"
     },
     "output_type": "display_data"
    }
   ],
   "source": [
    "%matplotlib inline\n",
    "\n",
    "plt.figure()\n",
    "\n",
    "# Roc Curve:\n",
    "plt.plot(fpr, tpr, color='red', lw=2, \n",
    "         label='ROC Curve (area = %0.2f)' % AUC)\n",
    "\n",
    "\n",
    "# Random Guess line:\n",
    "plt.plot([0, 1], [0, 1], color='blue', lw=1, linestyle='--')\n",
    "\n",
    "# Defining The Range of X-Axis and Y-Axis:\n",
    "plt.xlim([-0.005, 1.005])\n",
    "plt.ylim([0.0, 1.01])\n",
    "\n",
    "# Labels, Title, Legend:\n",
    "plt.xlabel('False Positive Rate')\n",
    "plt.ylabel('True Positive Rate')\n",
    "plt.title('Receiver operating characteristic')\n",
    "plt.legend(loc=\"lower right\")\n",
    "\n",
    "plt.show()"
   ]
  },
  {
   "cell_type": "code",
   "execution_count": 571,
   "metadata": {},
   "outputs": [
    {
     "name": "stdout",
     "output_type": "stream",
     "text": [
      "[[-0.51595242  0.51595242 -1.08413811  2.07517671 -0.53283777 -0.22967867\n",
      "  -0.50747832  0.81427482 -0.49044933  0.8235563  -0.8235563  -0.27144836\n",
      "  -1.00218103  1.15067399 -1.4331398   0.41090889  0.82507026 -0.55134134\n",
      "   1.38292822 -0.83243239]\n",
      " [ 1.93816322 -1.93816322 -1.08413811 -0.48188667  1.87674385 -0.22967867\n",
      "  -0.50747832  0.81427482 -0.49044933  0.8235563  -0.8235563  -0.27144836\n",
      "   0.99782372 -0.86905588 -0.47848359  1.49175234 -0.17196105 -0.55134134\n",
      "   0.75415714  0.10566353]]\n"
     ]
    }
   ],
   "source": [
    "\n",
    "\n",
    "# print(doubleFeatureResults)\n",
    "print(X[0: 2])\n"
   ]
  },
  {
   "cell_type": "markdown",
   "metadata": {},
   "source": [
    "# Cross-Validation"
   ]
  },
  {
   "cell_type": "code",
   "execution_count": 573,
   "metadata": {},
   "outputs": [],
   "source": [
    "cross = cross_val_score(my_logreg, X, y, cv=10,  scoring='neg_mean_squared_error')\n",
    "\n"
   ]
  },
  {
   "cell_type": "code",
   "execution_count": 574,
   "metadata": {},
   "outputs": [
    {
     "name": "stdout",
     "output_type": "stream",
     "text": [
      "[0.41702883 0.27583864 0.37590471 0.2331262  0.36115756 0.39009475\n",
      " 0.34578204 0.41702883 0.52414242 0.45693677]\n"
     ]
    }
   ],
   "source": [
    "cross_list_positive = -cross\n",
    "rmse_list = np.sqrt(cross_list_positive)\n",
    "print(rmse_list)"
   ]
  },
  {
   "cell_type": "code",
   "execution_count": 575,
   "metadata": {},
   "outputs": [
    {
     "name": "stdout",
     "output_type": "stream",
     "text": [
      "0.37970407368068826\n"
     ]
    }
   ],
   "source": [
    "print(rmse_list.mean())"
   ]
  },
  {
   "cell_type": "code",
   "execution_count": 576,
   "metadata": {},
   "outputs": [
    {
     "data": {
      "text/plain": [
       "0.37970407368068826"
      ]
     },
     "execution_count": 576,
     "metadata": {},
     "output_type": "execute_result"
    }
   ],
   "source": [
    "0.37970407368068826"
   ]
  }
 ],
 "metadata": {
  "interpreter": {
   "hash": "0ed06966b55709e884aa4ffbf8d20d071c2a1cfa7bda4b100a4546341033beb6"
  },
  "kernelspec": {
   "display_name": "Python 3.9.6 64-bit ('data-sc': conda)",
   "language": "python",
   "name": "python3"
  },
  "language_info": {
   "codemirror_mode": {
    "name": "ipython",
    "version": 3
   },
   "file_extension": ".py",
   "mimetype": "text/x-python",
   "name": "python",
   "nbconvert_exporter": "python",
   "pygments_lexer": "ipython3",
   "version": "3.9.6"
  },
  "orig_nbformat": 4
 },
 "nbformat": 4,
 "nbformat_minor": 2
}
